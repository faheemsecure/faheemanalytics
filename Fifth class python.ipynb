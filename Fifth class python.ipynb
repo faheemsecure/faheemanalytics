{
 "cells": [
  {
   "cell_type": "code",
   "execution_count": 15,
   "metadata": {},
   "outputs": [
    {
     "name": "stdout",
     "output_type": "stream",
     "text": [
      "The original string is:  Bismilsoft\n",
      "The reverse string is tfoslimsiB\n"
     ]
    }
   ],
   "source": [
    "#How to reverse a string in Python\n",
    "def reverse_string(str):  \n",
    "    str1 = \"\"   # Declaring empty string to store the reversed string  \n",
    "    for i in str:  \n",
    "        str1 = i + str1  \n",
    "    return str1    # It will return the reverse string to the caller function  \n",
    "     \n",
    "str = \"Bismilsoft\"    # Given String       \n",
    "print(\"The original string is: \",str)  \n",
    "print(\"The reverse string is\",reverse_string(str)) # Function call  "
   ]
  },
  {
   "cell_type": "code",
   "execution_count": 13,
   "metadata": {},
   "outputs": [
    {
     "name": "stdout",
     "output_type": "stream",
     "text": [
      "H\n",
      "E\n",
      "L\n",
      "L\n",
      "O\n",
      "o\n"
     ]
    }
   ],
   "source": [
    "str = \"HELLOworld\"  \n",
    "print(str[0])  \n",
    "print(str[1])  \n",
    "print(str[2])  \n",
    "print(str[3])  \n",
    "print(str[4])  \n",
    "# It returns the IndexError because 6th index doesn't exist  \n",
    "print(str[6]) "
   ]
  },
  {
   "cell_type": "code",
   "execution_count": 14,
   "metadata": {},
   "outputs": [
    {
     "name": "stdout",
     "output_type": "stream",
     "text": [
      "HELLOworld\n",
      "ELLO\n",
      "LL\n",
      "HEL\n",
      "Owo\n"
     ]
    }
   ],
   "source": [
    "# Given String  \n",
    "str = \"HELLOworld\"  \n",
    "# Start Oth index to end  \n",
    "print(str[0:])  \n",
    "# Starts 1th index to 4th index  \n",
    "print(str[1:5])  \n",
    "# Starts 2nd index to 3rd index  \n",
    "print(str[2:4])  \n",
    "# Starts 0th to 2nd index  \n",
    "print(str[:3])  \n",
    "#Starts 4th to 6th index  \n",
    "print(str[4:7])"
   ]
  },
  {
   "cell_type": "code",
   "execution_count": 16,
   "metadata": {},
   "outputs": [
    {
     "ename": "SyntaxError",
     "evalue": "invalid syntax (<ipython-input-16-472a8acb6d5e>, line 1)",
     "output_type": "error",
     "traceback": [
      "\u001b[1;36m  File \u001b[1;32m\"<ipython-input-16-472a8acb6d5e>\"\u001b[1;36m, line \u001b[1;32m1\u001b[0m\n\u001b[1;33m    str = \"They said, \"Hello what's going on?\"\"\u001b[0m\n\u001b[1;37m                           ^\u001b[0m\n\u001b[1;31mSyntaxError\u001b[0m\u001b[1;31m:\u001b[0m invalid syntax\n"
     ]
    }
   ],
   "source": [
    "str = \"They said, \"Hello what's going on?\"\"  \n",
    "print(str)"
   ]
  },
  {
   "cell_type": "code",
   "execution_count": 18,
   "metadata": {},
   "outputs": [
    {
     "name": "stdout",
     "output_type": "stream",
     "text": [
      "''They said, \"What's there?\"\n",
      "They said, \"What's going on?\"\n",
      "They said, \"What's going on?\"\n"
     ]
    }
   ],
   "source": [
    "# using triple quotes  \n",
    "print('''''They said, \"What's there?\"''')  \n",
    "  \n",
    "# escaping single quotes  \n",
    "print('They said, \"What\\'s going on?\"')  \n",
    "  \n",
    "# escaping double quotes  \n",
    "print(\"They said, \\\"What's going on?\\\"\")  "
   ]
  },
  {
   "cell_type": "code",
   "execution_count": null,
   "metadata": {},
   "outputs": [],
   "source": [
    "print(\"C:\\\\Users\\\\DEVANSH SHARMA\\\\Python32\\\\Lib\")  \n",
    "print(\"This is the \\n multiline quotes\")  \n",
    "print(\"This is \\x48\\x45\\x58 representation\") "
   ]
  },
  {
   "cell_type": "code",
   "execution_count": 2,
   "metadata": {},
   "outputs": [
    {
     "name": "stdout",
     "output_type": "stream",
     "text": [
      "The original string  is :  Bismilsoft\n",
      "The reversed string using extended slice operator  is :  tfoslimsiB\n"
     ]
    }
   ],
   "source": [
    "#  Reverse a string Using the slice ([]) operator \n",
    "# using  slice syntax   \n",
    "# reverse(str) Function to reverse a string   \n",
    "def reverse(str):   \n",
    "    str = str[::-1]   \n",
    "    return str   \n",
    "    \n",
    "s = \"Bismilsoft\"  \n",
    "print (\"The original string  is : \",s)   \n",
    "print (\"The reversed string using extended slice operator  is : \",reverse(s))  "
   ]
  },
  {
   "cell_type": "code",
   "execution_count": 3,
   "metadata": {},
   "outputs": [
    {
     "name": "stdout",
     "output_type": "stream",
     "text": [
      "The original string is :  Bismilsoft\n",
      "The reversed string using reversed() is :  tfoslimsiB\n"
     ]
    }
   ],
   "source": [
    "#reverse a string using reversed()   \n",
    "# Function to reverse a string   \n",
    "def reverse(str):   \n",
    "    string = \"\".join(reversed(str)) # reversed() function inside the join() function  \n",
    "    return string   \n",
    "  \n",
    "s = \"Bismilsoft\"  \n",
    "  \n",
    "print (\"The original string is : \",s)   \n",
    "print (\"The reversed string using reversed() is : \",reverse(s) )  "
   ]
  },
  {
   "cell_type": "code",
   "execution_count": 4,
   "metadata": {},
   "outputs": [
    {
     "name": "stdout",
     "output_type": "stream",
     "text": [
      "The original string  is :  Bismilsoft\n",
      "The reversed string(using recursion) is :  tfoslimsiB\n"
     ]
    }
   ],
   "source": [
    "# reverse a string    \n",
    "# using recursion   \n",
    "    \n",
    "def reverse(str):   \n",
    "    if len(str) == 0: # Checking the lenght of string  \n",
    "        return str   \n",
    "    else:   \n",
    "        return reverse(str[1:]) + str[0]   \n",
    "    \n",
    "str = \"Bismilsoft\"   \n",
    "print (\"The original string  is : \", str)     \n",
    "print (\"The reversed string(using recursion) is : \", reverse(str))  "
   ]
  },
  {
   "cell_type": "code",
   "execution_count": null,
   "metadata": {},
   "outputs": [],
   "source": [
    "str = 'Bismilsoft'  \n",
    "print(str[-1])  \n",
    "print(str[-3])  \n",
    "print(str[-2:])  \n",
    "print(str[-4:-1])  \n",
    "print(str[-7:-2])  \n",
    "# Reversing the given string  \n",
    "print(str[::-1])  \n",
    "print(str[-12])"
   ]
  },
  {
   "cell_type": "code",
   "execution_count": null,
   "metadata": {},
   "outputs": [],
   "source": [
    "str = \"Hello\"     \n",
    "str1 = \" world\"    \n",
    "print(str*3) # prints HelloHelloHello    \n",
    "print(str+str1)# prints Hello world     \n",
    "print(str[4]) # prints o                \n",
    "print(str[2:4]); # prints ll                    \n",
    "print('w' in str) # prints false as w is not present in str    \n",
    "print('wo' not in str1) # prints false as wo is present in str1.     \n",
    "print(r'C://python37') # prints C://python37 as it is written    \n",
    "print(\"The string str : %s\"%(str)) # prints The string str : Hello  "
   ]
  },
  {
   "cell_type": "code",
   "execution_count": 5,
   "metadata": {},
   "outputs": [
    {
     "ename": "TypeError",
     "evalue": "'str' object doesn't support item deletion",
     "output_type": "error",
     "traceback": [
      "\u001b[1;31m---------------------------------------------------------------------------\u001b[0m",
      "\u001b[1;31mTypeError\u001b[0m                                 Traceback (most recent call last)",
      "\u001b[1;32m<ipython-input-5-506442fc2aa7>\u001b[0m in \u001b[0;36m<module>\u001b[1;34m()\u001b[0m\n\u001b[0;32m      4\u001b[0m \u001b[1;31m#But we can delete the entire string using the del keyword.\u001b[0m\u001b[1;33m\u001b[0m\u001b[1;33m\u001b[0m\u001b[0m\n\u001b[0;32m      5\u001b[0m \u001b[0mstr\u001b[0m \u001b[1;33m=\u001b[0m \u001b[1;34m\"JAVATPOINT\"\u001b[0m\u001b[1;33m\u001b[0m\u001b[0m\n\u001b[1;32m----> 6\u001b[1;33m \u001b[1;32mdel\u001b[0m \u001b[0mstr\u001b[0m\u001b[1;33m[\u001b[0m\u001b[1;36m1\u001b[0m\u001b[1;33m]\u001b[0m\u001b[1;33m\u001b[0m\u001b[0m\n\u001b[0m",
      "\u001b[1;31mTypeError\u001b[0m: 'str' object doesn't support item deletion"
     ]
    }
   ],
   "source": [
    "#Deleting the String\n",
    "#As we know that strings are immutable. \n",
    "#We cannot delete or remove the characters from the string.\n",
    "#But we can delete the entire string using the del keyword.\n",
    "str = \"JAVATPOINT\"  \n",
    "del str[1]  "
   ]
  },
  {
   "cell_type": "code",
   "execution_count": 9,
   "metadata": {},
   "outputs": [
    {
     "ename": "NameError",
     "evalue": "name 'str1' is not defined",
     "output_type": "error",
     "traceback": [
      "\u001b[1;31m---------------------------------------------------------------------------\u001b[0m",
      "\u001b[1;31mNameError\u001b[0m                                 Traceback (most recent call last)",
      "\u001b[1;32m<ipython-input-9-55a5cad969d3>\u001b[0m in \u001b[0;36m<module>\u001b[1;34m()\u001b[0m\n\u001b[0;32m      1\u001b[0m \u001b[0mstr1\u001b[0m \u001b[1;33m=\u001b[0m \u001b[1;34m\"JAVATPOINT\"\u001b[0m\u001b[1;33m\u001b[0m\u001b[0m\n\u001b[0;32m      2\u001b[0m \u001b[1;32mdel\u001b[0m \u001b[0mstr1\u001b[0m\u001b[1;33m\u001b[0m\u001b[0m\n\u001b[1;32m----> 3\u001b[1;33m \u001b[0mprint\u001b[0m\u001b[1;33m(\u001b[0m\u001b[0mstr1\u001b[0m\u001b[1;33m)\u001b[0m\u001b[1;33m\u001b[0m\u001b[0m\n\u001b[0m",
      "\u001b[1;31mNameError\u001b[0m: name 'str1' is not defined"
     ]
    }
   ],
   "source": [
    "str1 = \"JAVATPOINT\"  \n",
    "del str1 \n",
    "print(str1)"
   ]
  },
  {
   "cell_type": "code",
   "execution_count": null,
   "metadata": {},
   "outputs": [],
   "source": [
    "string functions"
   ]
  }
 ],
 "metadata": {
  "hide_input": false,
  "kernelspec": {
   "display_name": "Python 3",
   "language": "python",
   "name": "python3"
  },
  "language_info": {
   "codemirror_mode": {
    "name": "ipython",
    "version": 3
   },
   "file_extension": ".py",
   "mimetype": "text/x-python",
   "name": "python",
   "nbconvert_exporter": "python",
   "pygments_lexer": "ipython3",
   "version": "3.7.0"
  }
 },
 "nbformat": 4,
 "nbformat_minor": 2
}
