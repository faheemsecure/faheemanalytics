{
  "nbformat": 4,
  "nbformat_minor": 0,
  "metadata": {
    "colab": {
      "name": "Deep Learning Project in Python with Keras(Diabetes prediction)",
      "provenance": [],
      "include_colab_link": true
    },
    "kernelspec": {
      "name": "python3",
      "display_name": "Python 3"
    }
  },
  "cells": [
    {
      "cell_type": "markdown",
      "metadata": {
        "id": "view-in-github",
        "colab_type": "text"
      },
      "source": [
        "<a href=\"https://colab.research.google.com/github/faheemsecure/faheemanalytics/blob/master/Deep_Learning_Project_in_Python_with_Keras(Diabetes_prediction).ipynb\" target=\"_parent\"><img src=\"https://colab.research.google.com/assets/colab-badge.svg\" alt=\"Open In Colab\"/></a>"
      ]
    },
    {
      "cell_type": "code",
      "metadata": {
        "id": "Nxefk2cTLLuy",
        "colab_type": "code",
        "colab": {}
      },
      "source": [
        "from numpy import loadtxt\n",
        "from keras.models import Sequential\n",
        "from keras.layers import Dense\n",
        "import pandas as pd"
      ],
      "execution_count": 0,
      "outputs": []
    },
    {
      "cell_type": "code",
      "metadata": {
        "id": "4WThSys1LXp0",
        "colab_type": "code",
        "colab": {
          "resources": {
            "http://localhost:8080/nbextensions/google.colab/files.js": {
              "data": "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",
              "ok": true,
              "headers": [
                [
                  "content-type",
                  "application/javascript"
                ]
              ],
              "status": 200,
              "status_text": ""
            }
          },
          "base_uri": "https://localhost:8080/",
          "height": 74
        },
        "outputId": "3a1ec10b-5c39-41e4-b034-7360b9934cce"
      },
      "source": [
        "#It will prompt you to select a file. Click on “Choose Files” then select and upload the file.\n",
        "#Wait for the file to be 100% uploaded. \n",
        "#You should see the name of the file once Colab has uploaded it\n",
        "from google.colab import files\n",
        "uploaded = files.upload()"
      ],
      "execution_count": 7,
      "outputs": [
        {
          "output_type": "display_data",
          "data": {
            "text/html": [
              "\n",
              "     <input type=\"file\" id=\"files-a87707b9-8268-4161-987b-e47e877a5075\" name=\"files[]\" multiple disabled />\n",
              "     <output id=\"result-a87707b9-8268-4161-987b-e47e877a5075\">\n",
              "      Upload widget is only available when the cell has been executed in the\n",
              "      current browser session. Please rerun this cell to enable.\n",
              "      </output>\n",
              "      <script src=\"/nbextensions/google.colab/files.js\"></script> "
            ],
            "text/plain": [
              "<IPython.core.display.HTML object>"
            ]
          },
          "metadata": {
            "tags": []
          }
        },
        {
          "output_type": "stream",
          "text": [
            "Saving pima-indians-diabetes.csv to pima-indians-diabetes (1).csv\n"
          ],
          "name": "stdout"
        }
      ]
    },
    {
      "cell_type": "code",
      "metadata": {
        "id": "jpbqgAWOLb82",
        "colab_type": "code",
        "colab": {}
      },
      "source": [
        "#make sure the filename matches the name of the uploaded file\n",
        "\n",
        "import io\n",
        "df = pd.read_csv(io.BytesIO(uploaded['pima-indians-diabetes.csv']))"
      ],
      "execution_count": 0,
      "outputs": []
    },
    {
      "cell_type": "code",
      "metadata": {
        "id": "6wk9jsWQLcIa",
        "colab_type": "code",
        "colab": {}
      },
      "source": [
        "# load the dataset\n",
        "dataset = loadtxt('pima-indians-diabetes.csv', delimiter=',')\n",
        "# split into input (X) and output (y) variables\n",
        "X = dataset[:,0:8]\n",
        "y = dataset[:,8]\n",
        "\n"
      ],
      "execution_count": 0,
      "outputs": []
    },
    {
      "cell_type": "code",
      "metadata": {
        "id": "QEO1027MNJyz",
        "colab_type": "code",
        "colab": {}
      },
      "source": [
        "# define the keras model\n",
        "model = Sequential()\n",
        "model.add(Dense(12, input_dim=8, activation='relu'))\n",
        "model.add(Dense(8, activation='relu'))\n",
        "model.add(Dense(1, activation='sigmoid'))\n"
      ],
      "execution_count": 0,
      "outputs": []
    },
    {
      "cell_type": "code",
      "metadata": {
        "id": "spLLUSJ6NUSv",
        "colab_type": "code",
        "colab": {}
      },
      "source": [
        "# compile the keras model\n",
        "model.compile(loss='binary_crossentropy', optimizer='adam', metrics=['accuracy'])\n"
      ],
      "execution_count": 0,
      "outputs": []
    },
    {
      "cell_type": "code",
      "metadata": {
        "id": "eHcMnO1cNcV5",
        "colab_type": "code",
        "colab": {
          "base_uri": "https://localhost:8080/",
          "height": 1000
        },
        "outputId": "8aca3175-8a08-40b5-f9a5-49dab533b996"
      },
      "source": [
        "# fit the keras model on the dataset\n",
        "model.fit(X, y, epochs=150, batch_size=10)\n"
      ],
      "execution_count": 13,
      "outputs": [
        {
          "output_type": "stream",
          "text": [
            "Epoch 1/150\n",
            "768/768 [==============================] - 0s 453us/step - loss: 2.8405 - acc: 0.5977\n",
            "Epoch 2/150\n",
            "768/768 [==============================] - 0s 117us/step - loss: 1.4433 - acc: 0.5703\n",
            "Epoch 3/150\n",
            "768/768 [==============================] - 0s 121us/step - loss: 1.2493 - acc: 0.5820\n",
            "Epoch 4/150\n",
            "768/768 [==============================] - 0s 123us/step - loss: 1.0778 - acc: 0.6133\n",
            "Epoch 5/150\n",
            "768/768 [==============================] - 0s 124us/step - loss: 1.1352 - acc: 0.6003\n",
            "Epoch 6/150\n",
            "768/768 [==============================] - 0s 127us/step - loss: 0.9551 - acc: 0.6172\n",
            "Epoch 7/150\n",
            "768/768 [==============================] - 0s 125us/step - loss: 0.8736 - acc: 0.6211\n",
            "Epoch 8/150\n",
            "768/768 [==============================] - 0s 140us/step - loss: 0.8368 - acc: 0.6224\n",
            "Epoch 9/150\n",
            "768/768 [==============================] - 0s 135us/step - loss: 0.7600 - acc: 0.6497\n",
            "Epoch 10/150\n",
            "768/768 [==============================] - 0s 125us/step - loss: 0.7182 - acc: 0.6523\n",
            "Epoch 11/150\n",
            "768/768 [==============================] - 0s 130us/step - loss: 0.7068 - acc: 0.6471\n",
            "Epoch 12/150\n",
            "768/768 [==============================] - 0s 122us/step - loss: 0.6759 - acc: 0.6523\n",
            "Epoch 13/150\n",
            "768/768 [==============================] - 0s 136us/step - loss: 0.6694 - acc: 0.6641\n",
            "Epoch 14/150\n",
            "768/768 [==============================] - 0s 120us/step - loss: 0.6449 - acc: 0.6810\n",
            "Epoch 15/150\n",
            "768/768 [==============================] - 0s 126us/step - loss: 0.6414 - acc: 0.6901\n",
            "Epoch 16/150\n",
            "768/768 [==============================] - 0s 128us/step - loss: 0.6140 - acc: 0.7018\n",
            "Epoch 17/150\n",
            "768/768 [==============================] - 0s 127us/step - loss: 0.6531 - acc: 0.6849\n",
            "Epoch 18/150\n",
            "768/768 [==============================] - 0s 132us/step - loss: 0.6196 - acc: 0.6914\n",
            "Epoch 19/150\n",
            "768/768 [==============================] - 0s 135us/step - loss: 0.6056 - acc: 0.6979\n",
            "Epoch 20/150\n",
            "768/768 [==============================] - 0s 122us/step - loss: 0.5887 - acc: 0.6927\n",
            "Epoch 21/150\n",
            "768/768 [==============================] - 0s 123us/step - loss: 0.5855 - acc: 0.7083\n",
            "Epoch 22/150\n",
            "768/768 [==============================] - 0s 128us/step - loss: 0.5832 - acc: 0.7083\n",
            "Epoch 23/150\n",
            "768/768 [==============================] - 0s 118us/step - loss: 0.5999 - acc: 0.6823\n",
            "Epoch 24/150\n",
            "768/768 [==============================] - 0s 114us/step - loss: 0.5743 - acc: 0.7122\n",
            "Epoch 25/150\n",
            "768/768 [==============================] - 0s 114us/step - loss: 0.5753 - acc: 0.7031\n",
            "Epoch 26/150\n",
            "768/768 [==============================] - 0s 116us/step - loss: 0.5859 - acc: 0.7083\n",
            "Epoch 27/150\n",
            "768/768 [==============================] - 0s 121us/step - loss: 0.5635 - acc: 0.7227\n",
            "Epoch 28/150\n",
            "768/768 [==============================] - 0s 121us/step - loss: 0.6145 - acc: 0.6966\n",
            "Epoch 29/150\n",
            "768/768 [==============================] - 0s 120us/step - loss: 0.5993 - acc: 0.7083\n",
            "Epoch 30/150\n",
            "768/768 [==============================] - 0s 119us/step - loss: 0.6200 - acc: 0.6979\n",
            "Epoch 31/150\n",
            "768/768 [==============================] - 0s 118us/step - loss: 0.5711 - acc: 0.7031\n",
            "Epoch 32/150\n",
            "768/768 [==============================] - 0s 120us/step - loss: 0.5876 - acc: 0.7005\n",
            "Epoch 33/150\n",
            "768/768 [==============================] - 0s 120us/step - loss: 0.5826 - acc: 0.7122\n",
            "Epoch 34/150\n",
            "768/768 [==============================] - 0s 115us/step - loss: 0.5699 - acc: 0.7161\n",
            "Epoch 35/150\n",
            "768/768 [==============================] - 0s 129us/step - loss: 0.5738 - acc: 0.7122\n",
            "Epoch 36/150\n",
            "768/768 [==============================] - 0s 125us/step - loss: 0.5695 - acc: 0.7161\n",
            "Epoch 37/150\n",
            "768/768 [==============================] - 0s 115us/step - loss: 0.5604 - acc: 0.7174\n",
            "Epoch 38/150\n",
            "768/768 [==============================] - 0s 141us/step - loss: 0.5809 - acc: 0.7083\n",
            "Epoch 39/150\n",
            "768/768 [==============================] - 0s 128us/step - loss: 0.5776 - acc: 0.7161\n",
            "Epoch 40/150\n",
            "768/768 [==============================] - 0s 110us/step - loss: 0.5525 - acc: 0.7279\n",
            "Epoch 41/150\n",
            "768/768 [==============================] - 0s 120us/step - loss: 0.5960 - acc: 0.7083\n",
            "Epoch 42/150\n",
            "768/768 [==============================] - 0s 118us/step - loss: 0.5570 - acc: 0.7240\n",
            "Epoch 43/150\n",
            "768/768 [==============================] - 0s 127us/step - loss: 0.5491 - acc: 0.7266\n",
            "Epoch 44/150\n",
            "768/768 [==============================] - 0s 122us/step - loss: 0.5781 - acc: 0.7031\n",
            "Epoch 45/150\n",
            "768/768 [==============================] - 0s 117us/step - loss: 0.5678 - acc: 0.7214\n",
            "Epoch 46/150\n",
            "768/768 [==============================] - 0s 118us/step - loss: 0.5876 - acc: 0.7005\n",
            "Epoch 47/150\n",
            "768/768 [==============================] - 0s 121us/step - loss: 0.5566 - acc: 0.7240\n",
            "Epoch 48/150\n",
            "768/768 [==============================] - 0s 127us/step - loss: 0.5665 - acc: 0.7161\n",
            "Epoch 49/150\n",
            "768/768 [==============================] - 0s 120us/step - loss: 0.5585 - acc: 0.7188\n",
            "Epoch 50/150\n",
            "768/768 [==============================] - 0s 126us/step - loss: 0.5498 - acc: 0.7396\n",
            "Epoch 51/150\n",
            "768/768 [==============================] - 0s 133us/step - loss: 0.5598 - acc: 0.7253\n",
            "Epoch 52/150\n",
            "768/768 [==============================] - 0s 113us/step - loss: 0.5585 - acc: 0.7253\n",
            "Epoch 53/150\n",
            "768/768 [==============================] - 0s 115us/step - loss: 0.5654 - acc: 0.7148\n",
            "Epoch 54/150\n",
            "768/768 [==============================] - 0s 116us/step - loss: 0.5479 - acc: 0.7279\n",
            "Epoch 55/150\n",
            "768/768 [==============================] - 0s 146us/step - loss: 0.5598 - acc: 0.7227\n",
            "Epoch 56/150\n",
            "768/768 [==============================] - 0s 118us/step - loss: 0.5523 - acc: 0.7409\n",
            "Epoch 57/150\n",
            "768/768 [==============================] - 0s 121us/step - loss: 0.5485 - acc: 0.7331\n",
            "Epoch 58/150\n",
            "768/768 [==============================] - 0s 131us/step - loss: 0.5450 - acc: 0.7305\n",
            "Epoch 59/150\n",
            "768/768 [==============================] - 0s 141us/step - loss: 0.5591 - acc: 0.7266\n",
            "Epoch 60/150\n",
            "768/768 [==============================] - 0s 119us/step - loss: 0.5406 - acc: 0.7435\n",
            "Epoch 61/150\n",
            "768/768 [==============================] - 0s 123us/step - loss: 0.5693 - acc: 0.7227\n",
            "Epoch 62/150\n",
            "768/768 [==============================] - 0s 116us/step - loss: 0.5269 - acc: 0.7617\n",
            "Epoch 63/150\n",
            "768/768 [==============================] - 0s 125us/step - loss: 0.5467 - acc: 0.7448\n",
            "Epoch 64/150\n",
            "768/768 [==============================] - 0s 115us/step - loss: 0.5602 - acc: 0.7370\n",
            "Epoch 65/150\n",
            "768/768 [==============================] - 0s 126us/step - loss: 0.5435 - acc: 0.7422\n",
            "Epoch 66/150\n",
            "768/768 [==============================] - 0s 134us/step - loss: 0.5693 - acc: 0.7083\n",
            "Epoch 67/150\n",
            "768/768 [==============================] - 0s 121us/step - loss: 0.5454 - acc: 0.7240\n",
            "Epoch 68/150\n",
            "768/768 [==============================] - 0s 121us/step - loss: 0.5535 - acc: 0.7240\n",
            "Epoch 69/150\n",
            "768/768 [==============================] - 0s 117us/step - loss: 0.5576 - acc: 0.7174\n",
            "Epoch 70/150\n",
            "768/768 [==============================] - 0s 126us/step - loss: 0.5284 - acc: 0.7539\n",
            "Epoch 71/150\n",
            "768/768 [==============================] - 0s 132us/step - loss: 0.5568 - acc: 0.7344\n",
            "Epoch 72/150\n",
            "768/768 [==============================] - 0s 115us/step - loss: 0.5311 - acc: 0.7448\n",
            "Epoch 73/150\n",
            "768/768 [==============================] - 0s 118us/step - loss: 0.5702 - acc: 0.7214\n",
            "Epoch 74/150\n",
            "768/768 [==============================] - 0s 119us/step - loss: 0.5391 - acc: 0.7292\n",
            "Epoch 75/150\n",
            "768/768 [==============================] - 0s 124us/step - loss: 0.5277 - acc: 0.7539\n",
            "Epoch 76/150\n",
            "768/768 [==============================] - 0s 120us/step - loss: 0.5196 - acc: 0.7630\n",
            "Epoch 77/150\n",
            "768/768 [==============================] - 0s 114us/step - loss: 0.5224 - acc: 0.7318\n",
            "Epoch 78/150\n",
            "768/768 [==============================] - 0s 137us/step - loss: 0.5253 - acc: 0.7266\n",
            "Epoch 79/150\n",
            "768/768 [==============================] - 0s 131us/step - loss: 0.5187 - acc: 0.7487\n",
            "Epoch 80/150\n",
            "768/768 [==============================] - 0s 137us/step - loss: 0.5496 - acc: 0.7266\n",
            "Epoch 81/150\n",
            "768/768 [==============================] - 0s 124us/step - loss: 0.5232 - acc: 0.7344\n",
            "Epoch 82/150\n",
            "768/768 [==============================] - 0s 141us/step - loss: 0.5191 - acc: 0.7500\n",
            "Epoch 83/150\n",
            "768/768 [==============================] - 0s 117us/step - loss: 0.5471 - acc: 0.7448\n",
            "Epoch 84/150\n",
            "768/768 [==============================] - 0s 133us/step - loss: 0.5404 - acc: 0.7474\n",
            "Epoch 85/150\n",
            "768/768 [==============================] - 0s 137us/step - loss: 0.5247 - acc: 0.7565\n",
            "Epoch 86/150\n",
            "768/768 [==============================] - 0s 127us/step - loss: 0.5213 - acc: 0.7487\n",
            "Epoch 87/150\n",
            "768/768 [==============================] - 0s 122us/step - loss: 0.5391 - acc: 0.7422\n",
            "Epoch 88/150\n",
            "768/768 [==============================] - 0s 132us/step - loss: 0.5128 - acc: 0.7604\n",
            "Epoch 89/150\n",
            "768/768 [==============================] - 0s 125us/step - loss: 0.5374 - acc: 0.7474\n",
            "Epoch 90/150\n",
            "768/768 [==============================] - 0s 120us/step - loss: 0.5173 - acc: 0.7617\n",
            "Epoch 91/150\n",
            "768/768 [==============================] - 0s 133us/step - loss: 0.5116 - acc: 0.7565\n",
            "Epoch 92/150\n",
            "768/768 [==============================] - 0s 126us/step - loss: 0.5297 - acc: 0.7344\n",
            "Epoch 93/150\n",
            "768/768 [==============================] - 0s 124us/step - loss: 0.5366 - acc: 0.7383\n",
            "Epoch 94/150\n",
            "768/768 [==============================] - 0s 130us/step - loss: 0.5293 - acc: 0.7448\n",
            "Epoch 95/150\n",
            "768/768 [==============================] - 0s 125us/step - loss: 0.5405 - acc: 0.7435\n",
            "Epoch 96/150\n",
            "768/768 [==============================] - 0s 131us/step - loss: 0.5307 - acc: 0.7487\n",
            "Epoch 97/150\n",
            "768/768 [==============================] - 0s 134us/step - loss: 0.5228 - acc: 0.7331\n",
            "Epoch 98/150\n",
            "768/768 [==============================] - 0s 136us/step - loss: 0.5214 - acc: 0.7526\n",
            "Epoch 99/150\n",
            "768/768 [==============================] - 0s 130us/step - loss: 0.5335 - acc: 0.7461\n",
            "Epoch 100/150\n",
            "768/768 [==============================] - 0s 127us/step - loss: 0.5417 - acc: 0.7487\n",
            "Epoch 101/150\n",
            "768/768 [==============================] - 0s 143us/step - loss: 0.5199 - acc: 0.7526\n",
            "Epoch 102/150\n",
            "768/768 [==============================] - 0s 125us/step - loss: 0.5169 - acc: 0.7448\n",
            "Epoch 103/150\n",
            "768/768 [==============================] - 0s 118us/step - loss: 0.5091 - acc: 0.7474\n",
            "Epoch 104/150\n",
            "768/768 [==============================] - 0s 134us/step - loss: 0.5082 - acc: 0.7500\n",
            "Epoch 105/150\n",
            "768/768 [==============================] - 0s 130us/step - loss: 0.5218 - acc: 0.7487\n",
            "Epoch 106/150\n",
            "768/768 [==============================] - 0s 132us/step - loss: 0.5525 - acc: 0.7161\n",
            "Epoch 107/150\n",
            "768/768 [==============================] - 0s 132us/step - loss: 0.5102 - acc: 0.7604\n",
            "Epoch 108/150\n",
            "768/768 [==============================] - 0s 127us/step - loss: 0.5266 - acc: 0.7383\n",
            "Epoch 109/150\n",
            "768/768 [==============================] - 0s 150us/step - loss: 0.5133 - acc: 0.7526\n",
            "Epoch 110/150\n",
            "768/768 [==============================] - 0s 114us/step - loss: 0.5221 - acc: 0.7591\n",
            "Epoch 111/150\n",
            "768/768 [==============================] - 0s 130us/step - loss: 0.5277 - acc: 0.7383\n",
            "Epoch 112/150\n",
            "768/768 [==============================] - 0s 123us/step - loss: 0.5205 - acc: 0.7578\n",
            "Epoch 113/150\n",
            "768/768 [==============================] - 0s 121us/step - loss: 0.5124 - acc: 0.7526\n",
            "Epoch 114/150\n",
            "768/768 [==============================] - 0s 125us/step - loss: 0.5069 - acc: 0.7552\n",
            "Epoch 115/150\n",
            "768/768 [==============================] - 0s 133us/step - loss: 0.5088 - acc: 0.7565\n",
            "Epoch 116/150\n",
            "768/768 [==============================] - 0s 118us/step - loss: 0.5451 - acc: 0.7344\n",
            "Epoch 117/150\n",
            "768/768 [==============================] - 0s 149us/step - loss: 0.5012 - acc: 0.7565\n",
            "Epoch 118/150\n",
            "768/768 [==============================] - 0s 117us/step - loss: 0.5300 - acc: 0.7383\n",
            "Epoch 119/150\n",
            "768/768 [==============================] - 0s 124us/step - loss: 0.5180 - acc: 0.7565\n",
            "Epoch 120/150\n",
            "768/768 [==============================] - 0s 123us/step - loss: 0.5285 - acc: 0.7448\n",
            "Epoch 121/150\n",
            "768/768 [==============================] - 0s 134us/step - loss: 0.5118 - acc: 0.7565\n",
            "Epoch 122/150\n",
            "768/768 [==============================] - 0s 129us/step - loss: 0.5178 - acc: 0.7539\n",
            "Epoch 123/150\n",
            "768/768 [==============================] - 0s 124us/step - loss: 0.5307 - acc: 0.7344\n",
            "Epoch 124/150\n",
            "768/768 [==============================] - 0s 125us/step - loss: 0.5053 - acc: 0.7552\n",
            "Epoch 125/150\n",
            "768/768 [==============================] - 0s 122us/step - loss: 0.5162 - acc: 0.7656\n",
            "Epoch 126/150\n",
            "768/768 [==============================] - 0s 119us/step - loss: 0.5049 - acc: 0.7578\n",
            "Epoch 127/150\n",
            "768/768 [==============================] - 0s 112us/step - loss: 0.5373 - acc: 0.7422\n",
            "Epoch 128/150\n",
            "768/768 [==============================] - 0s 133us/step - loss: 0.5418 - acc: 0.7474\n",
            "Epoch 129/150\n",
            "768/768 [==============================] - 0s 132us/step - loss: 0.5004 - acc: 0.7565\n",
            "Epoch 130/150\n",
            "768/768 [==============================] - 0s 117us/step - loss: 0.5330 - acc: 0.7435\n",
            "Epoch 131/150\n",
            "768/768 [==============================] - 0s 119us/step - loss: 0.5135 - acc: 0.7565\n",
            "Epoch 132/150\n",
            "768/768 [==============================] - 0s 117us/step - loss: 0.5156 - acc: 0.7539\n",
            "Epoch 133/150\n",
            "768/768 [==============================] - 0s 121us/step - loss: 0.4931 - acc: 0.7682\n",
            "Epoch 134/150\n",
            "768/768 [==============================] - 0s 113us/step - loss: 0.5120 - acc: 0.7513\n",
            "Epoch 135/150\n",
            "768/768 [==============================] - 0s 112us/step - loss: 0.4996 - acc: 0.7500\n",
            "Epoch 136/150\n",
            "768/768 [==============================] - 0s 119us/step - loss: 0.4987 - acc: 0.7682\n",
            "Epoch 137/150\n",
            "768/768 [==============================] - 0s 122us/step - loss: 0.5008 - acc: 0.7617\n",
            "Epoch 138/150\n",
            "768/768 [==============================] - 0s 119us/step - loss: 0.5239 - acc: 0.7617\n",
            "Epoch 139/150\n",
            "768/768 [==============================] - 0s 119us/step - loss: 0.5063 - acc: 0.7617\n",
            "Epoch 140/150\n",
            "768/768 [==============================] - 0s 116us/step - loss: 0.5108 - acc: 0.7539\n",
            "Epoch 141/150\n",
            "768/768 [==============================] - 0s 135us/step - loss: 0.4942 - acc: 0.7643\n",
            "Epoch 142/150\n",
            "768/768 [==============================] - 0s 122us/step - loss: 0.5012 - acc: 0.7526\n",
            "Epoch 143/150\n",
            "768/768 [==============================] - 0s 127us/step - loss: 0.4874 - acc: 0.7773\n",
            "Epoch 144/150\n",
            "768/768 [==============================] - 0s 123us/step - loss: 0.5068 - acc: 0.7578\n",
            "Epoch 145/150\n",
            "768/768 [==============================] - 0s 142us/step - loss: 0.4985 - acc: 0.7656\n",
            "Epoch 146/150\n",
            "768/768 [==============================] - 0s 123us/step - loss: 0.5257 - acc: 0.7461\n",
            "Epoch 147/150\n",
            "768/768 [==============================] - 0s 114us/step - loss: 0.5082 - acc: 0.7604\n",
            "Epoch 148/150\n",
            "768/768 [==============================] - 0s 114us/step - loss: 0.5046 - acc: 0.7474\n",
            "Epoch 149/150\n",
            "768/768 [==============================] - 0s 118us/step - loss: 0.4938 - acc: 0.7721\n",
            "Epoch 150/150\n",
            "768/768 [==============================] - 0s 118us/step - loss: 0.5144 - acc: 0.7539\n"
          ],
          "name": "stdout"
        },
        {
          "output_type": "execute_result",
          "data": {
            "text/plain": [
              "<keras.callbacks.History at 0x7f89c3dcccc0>"
            ]
          },
          "metadata": {
            "tags": []
          },
          "execution_count": 13
        }
      ]
    },
    {
      "cell_type": "code",
      "metadata": {
        "id": "EtDlgXboNkVT",
        "colab_type": "code",
        "colab": {
          "base_uri": "https://localhost:8080/",
          "height": 50
        },
        "outputId": "63012d9c-c153-4eed-ffe0-03fa3edc5c65"
      },
      "source": [
        "# evaluate the keras model\n",
        "_, accuracy = model.evaluate(X, y)\n",
        "print('Accuracy: %.2f' % (accuracy*100))"
      ],
      "execution_count": 14,
      "outputs": [
        {
          "output_type": "stream",
          "text": [
            "768/768 [==============================] - 0s 116us/step\n",
            "Accuracy: 77.47\n"
          ],
          "name": "stdout"
        }
      ]
    }
  ]
}