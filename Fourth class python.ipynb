{
 "cells": [
  {
   "cell_type": "code",
   "execution_count": 11,
   "metadata": {},
   "outputs": [
    {
     "name": "stdout",
     "output_type": "stream",
     "text": [
      "P\n",
      "y\n",
      "t\n",
      "h\n",
      "o\n",
      "n\n",
      " \n",
      "i\n",
      "s\n",
      " \n",
      "g\n",
      "o\n",
      "d\n",
      " \n",
      "l\n",
      "a\n",
      "n\n",
      "g\n",
      "u\n",
      "a\n",
      "g\n",
      "e\n"
     ]
    }
   ],
   "source": [
    "#Iterating string using for loop\n",
    "str = \"Python is good language\"  \n",
    "for i in str:  \n",
    "    print(i)"
   ]
  },
  {
   "cell_type": "code",
   "execution_count": 12,
   "metadata": {},
   "outputs": [
    {
     "name": "stdout",
     "output_type": "stream",
     "text": [
      "7\n",
      "14\n",
      "21\n",
      "28\n",
      "35\n",
      "42\n",
      "49\n",
      "56\n",
      "63\n",
      "70\n"
     ]
    }
   ],
   "source": [
    "#Program to print the table of the given number\n",
    "list = [1,2,3,4,5,6,7,8,9,10]  \n",
    "n = 7  \n",
    "for i in list:  \n",
    "    c = n*i  \n",
    "    print(c)  \n"
   ]
  },
  {
   "cell_type": "code",
   "execution_count": 3,
   "metadata": {},
   "outputs": [
    {
     "name": "stdout",
     "output_type": "stream",
     "text": [
      "The sum is: 183\n"
     ]
    }
   ],
   "source": [
    "#Program to print the sum of the given list\n",
    "list = [10,30,23,43,65,12]  \n",
    "sum = 0  \n",
    "for i in list:  \n",
    "    sum = sum+i  \n",
    "print(\"The sum is:\",sum)  "
   ]
  },
  {
   "cell_type": "code",
   "execution_count": 14,
   "metadata": {},
   "outputs": [
    {
     "name": "stdout",
     "output_type": "stream",
     "text": [
      "Enter the number 6\n",
      "6 * 1 = 6\n",
      "6 * 2 = 12\n",
      "6 * 3 = 18\n",
      "6 * 4 = 24\n",
      "6 * 5 = 30\n",
      "6 * 6 = 36\n",
      "6 * 7 = 42\n",
      "6 * 8 = 48\n",
      "6 * 9 = 54\n",
      "6 * 10 = 60\n"
     ]
    }
   ],
   "source": [
    "#Program to print table of given number\n",
    "n = int(input(\"Enter the number \"))  \n",
    "for i in range(1,11):  \n",
    "    c = n*i  \n",
    "    print(n,\"*\",i,\"=\",c)"
   ]
  },
  {
   "cell_type": "code",
   "execution_count": 15,
   "metadata": {},
   "outputs": [
    {
     "name": "stdout",
     "output_type": "stream",
     "text": [
      "Enter the number 10\n",
      "2\n",
      "4\n",
      "6\n",
      "8\n"
     ]
    }
   ],
   "source": [
    "#Program to print even number using step size in range()\n",
    "n = int(input(\"Enter the number \"))  \n",
    "for i in range(2,n,2):  \n",
    "    print(i) "
   ]
  },
  {
   "cell_type": "code",
   "execution_count": 16,
   "metadata": {},
   "outputs": [
    {
     "data": {
      "text/plain": [
       "4"
      ]
     },
     "execution_count": 16,
     "metadata": {},
     "output_type": "execute_result"
    }
   ],
   "source": [
    "list = ['Peter','Joseph','Ricky','Devansh']  \n",
    "len(list)"
   ]
  },
  {
   "cell_type": "code",
   "execution_count": 17,
   "metadata": {},
   "outputs": [
    {
     "name": "stdout",
     "output_type": "stream",
     "text": [
      "Good Morning Peter\n",
      "Good Morning Joseph\n",
      "Good Morning Ricky\n",
      "Good Morning Devansh\n"
     ]
    }
   ],
   "source": [
    "for i in range(len(list)):  \n",
    "    print(\"Good Morning\",list[i])"
   ]
  },
  {
   "cell_type": "code",
   "execution_count": 19,
   "metadata": {},
   "outputs": [
    {
     "name": "stdout",
     "output_type": "stream",
     "text": [
      "Enter the rows4\n",
      "\n",
      "1\n",
      "22\n",
      "333\n",
      "4444\n"
     ]
    }
   ],
   "source": [
    "#nested for loop: Program to number pyramid.\n",
    "rows = int(input(\"Enter the rows\"))  \n",
    "for i in range(0,rows+1):  \n",
    "    for j in range(i):  \n",
    "        print(i,end = '')  \n",
    "    print() "
   ]
  },
  {
   "cell_type": "code",
   "execution_count": 8,
   "metadata": {},
   "outputs": [
    {
     "name": "stdout",
     "output_type": "stream",
     "text": [
      "0\n",
      "1\n",
      "2\n",
      "3\n",
      "4\n",
      "for loop completely exhausted, since there is no break.\n"
     ]
    }
   ],
   "source": [
    "#Using else statement with for loop\n",
    "for i in range(0,5):    \n",
    "    print(i)    \n",
    "else:  \n",
    "    print(\"for loop completely exhausted, since there is no break.\")  "
   ]
  },
  {
   "cell_type": "code",
   "execution_count": 22,
   "metadata": {},
   "outputs": [
    {
     "name": "stdout",
     "output_type": "stream",
     "text": [
      "Enter the number:6\n",
      "6 X 1 = 6 \n",
      "\n",
      "6 X 2 = 12 \n",
      "\n",
      "6 X 3 = 18 \n",
      "\n",
      "6 X 4 = 24 \n",
      "\n",
      "6 X 5 = 30 \n",
      "\n",
      "6 X 6 = 36 \n",
      "\n",
      "6 X 7 = 42 \n",
      "\n",
      "6 X 8 = 48 \n",
      "\n",
      "6 X 9 = 54 \n",
      "\n",
      "6 X 10 = 60 \n",
      "\n"
     ]
    }
   ],
   "source": [
    "#Program to print table of given numbers\n",
    "i=1    \n",
    "   \n",
    "number = int(input(\"Enter the number:\"))    \n",
    "while i<=10:    \n",
    "    print(\"%d X %d = %d \\n\"%(number,i,number*i))    \n",
    "    i = i+1    "
   ]
  },
  {
   "cell_type": "code",
   "execution_count": null,
   "metadata": {},
   "outputs": [],
   "source": []
  }
 ],
 "metadata": {
  "hide_input": false,
  "kernelspec": {
   "display_name": "Python 3",
   "language": "python",
   "name": "python3"
  },
  "language_info": {
   "codemirror_mode": {
    "name": "ipython",
    "version": 3
   },
   "file_extension": ".py",
   "mimetype": "text/x-python",
   "name": "python",
   "nbconvert_exporter": "python",
   "pygments_lexer": "ipython3",
   "version": "3.7.0"
  }
 },
 "nbformat": 4,
 "nbformat_minor": 2
}
