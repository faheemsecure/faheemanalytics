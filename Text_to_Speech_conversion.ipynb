{
  "nbformat": 4,
  "nbformat_minor": 0,
  "metadata": {
    "colab": {
      "name": "Text to Speech conversion",
      "provenance": [],
      "include_colab_link": true
    },
    "kernelspec": {
      "name": "python3",
      "display_name": "Python 3"
    }
  },
  "cells": [
    {
      "cell_type": "markdown",
      "metadata": {
        "id": "view-in-github",
        "colab_type": "text"
      },
      "source": [
        "<a href=\"https://colab.research.google.com/github/faheemsecure/faheemanalytics/blob/master/Text_to_Speech_conversion.ipynb\" target=\"_parent\"><img src=\"https://colab.research.google.com/assets/colab-badge.svg\" alt=\"Open In Colab\"/></a>"
      ]
    },
    {
      "cell_type": "code",
      "metadata": {
        "id": "EDMYRmTOFFB1",
        "colab_type": "code",
        "colab": {
          "base_uri": "https://localhost:8080/",
          "height": 336
        },
        "outputId": "16c3755b-6824-428e-899d-8a397f9b33de"
      },
      "source": [
        "pip install gTTS"
      ],
      "execution_count": 2,
      "outputs": [
        {
          "output_type": "stream",
          "text": [
            "Collecting gTTS\n",
            "  Downloading https://files.pythonhosted.org/packages/02/0b/e19dd65623e34954fb6793765ad1c6185a669a33e6a6245939e97abeaaca/gTTS-2.0.4-py3-none-any.whl\n",
            "Requirement already satisfied: requests in /usr/local/lib/python3.6/dist-packages (from gTTS) (2.21.0)\n",
            "Requirement already satisfied: beautifulsoup4 in /usr/local/lib/python3.6/dist-packages (from gTTS) (4.6.3)\n",
            "Requirement already satisfied: click in /usr/local/lib/python3.6/dist-packages (from gTTS) (7.0)\n",
            "Requirement already satisfied: six in /usr/local/lib/python3.6/dist-packages (from gTTS) (1.12.0)\n",
            "Collecting gtts-token>=1.1.3 (from gTTS)\n",
            "  Downloading https://files.pythonhosted.org/packages/e7/25/ca6e9cd3275bfc3097fe6b06cc31db6d3dfaf32e032e0f73fead9c9a03ce/gTTS-token-1.1.3.tar.gz\n",
            "Requirement already satisfied: urllib3<1.25,>=1.21.1 in /usr/local/lib/python3.6/dist-packages (from requests->gTTS) (1.24.3)\n",
            "Requirement already satisfied: idna<2.9,>=2.5 in /usr/local/lib/python3.6/dist-packages (from requests->gTTS) (2.8)\n",
            "Requirement already satisfied: certifi>=2017.4.17 in /usr/local/lib/python3.6/dist-packages (from requests->gTTS) (2019.6.16)\n",
            "Requirement already satisfied: chardet<3.1.0,>=3.0.2 in /usr/local/lib/python3.6/dist-packages (from requests->gTTS) (3.0.4)\n",
            "Building wheels for collected packages: gtts-token\n",
            "  Building wheel for gtts-token (setup.py) ... \u001b[?25l\u001b[?25hdone\n",
            "  Created wheel for gtts-token: filename=gTTS_token-1.1.3-cp36-none-any.whl size=4097 sha256=1e9e529d064e63da99305c075ab40eef1e7c645d54525a37b61a13e3c2339704\n",
            "  Stored in directory: /root/.cache/pip/wheels/dd/11/61/33f7e51bf545e910552b2255eead2a7cd8ef54064b46dceb34\n",
            "Successfully built gtts-token\n",
            "Installing collected packages: gtts-token, gTTS\n",
            "Successfully installed gTTS-2.0.4 gtts-token-1.1.3\n"
          ],
          "name": "stdout"
        }
      ]
    },
    {
      "cell_type": "code",
      "metadata": {
        "id": "ODTqCCtiFbSR",
        "colab_type": "code",
        "colab": {}
      },
      "source": [
        "# Import the required module for text  \n",
        "# to speech conversion \n",
        "from gtts import gTTS "
      ],
      "execution_count": 0,
      "outputs": []
    },
    {
      "cell_type": "code",
      "metadata": {
        "id": "8JaNvQUIFhle",
        "colab_type": "code",
        "colab": {}
      },
      "source": [
        "# This module is imported so that we can  \n",
        "# play the converted audio \n",
        "import os \n",
        "  \n",
        "# The text that you want to convert to audio \n",
        "mytext = 'Welcome to world of python!'"
      ],
      "execution_count": 0,
      "outputs": []
    },
    {
      "cell_type": "code",
      "metadata": {
        "id": "BDr9aX7ZFsAO",
        "colab_type": "code",
        "colab": {}
      },
      "source": [
        "# Language in which you want to convert \n",
        "language = 'en'\n",
        "  \n",
        "# Passing the text and language to the engine,  \n",
        "# here we have marked slow=False. Which tells  \n",
        "# the module that the converted audio should  \n",
        "# have a high speed \n",
        "myobj = gTTS(text=mytext, lang=language, slow=False)"
      ],
      "execution_count": 0,
      "outputs": []
    },
    {
      "cell_type": "code",
      "metadata": {
        "id": "C9uDr_21F02x",
        "colab_type": "code",
        "colab": {}
      },
      "source": [
        "# Saving the converted audio in a mp3 file named \n",
        "# welcome  \n",
        "myobj.save(\"welcome.mp3\") "
      ],
      "execution_count": 0,
      "outputs": []
    },
    {
      "cell_type": "code",
      "metadata": {
        "id": "BX_9-C1nGCWB",
        "colab_type": "code",
        "colab": {
          "base_uri": "https://localhost:8080/",
          "height": 34
        },
        "outputId": "223914e6-d508-4753-8bdc-cabea9f6ac2a"
      },
      "source": [
        "# Playing the converted file \n",
        "os.system(\"C:\\\\Users\\\\hp\\\\Desktop\\\\welcome.mp3\") "
      ],
      "execution_count": 9,
      "outputs": [
        {
          "output_type": "execute_result",
          "data": {
            "text/plain": [
              "32512"
            ]
          },
          "metadata": {
            "tags": []
          },
          "execution_count": 9
        }
      ]
    },
    {
      "cell_type": "code",
      "metadata": {
        "id": "uz4BwwS9G2NH",
        "colab_type": "code",
        "colab": {}
      },
      "source": [
        "The output of the above program should be a \n",
        "voice saying, 'Welcome to world of python'"
      ],
      "execution_count": 0,
      "outputs": []
    }
  ]
}