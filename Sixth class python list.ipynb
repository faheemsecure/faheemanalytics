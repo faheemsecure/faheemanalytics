{
 "cells": [
  {
   "cell_type": "code",
   "execution_count": 4,
   "metadata": {},
   "outputs": [
    {
     "name": "stdout",
     "output_type": "stream",
     "text": [
      "<class 'list'>\n",
      "<class 'list'>\n"
     ]
    }
   ],
   "source": [
    "#print list\n",
    "L1 = [\"John\", 102, \"USA\"]    \n",
    "L2 = [1, 2, 3, 4, 5, 6]\n",
    "print(type(L1))  \n",
    "print(type(L2))"
   ]
  },
  {
   "cell_type": "code",
   "execution_count": 5,
   "metadata": {},
   "outputs": [
    {
     "data": {
      "text/plain": [
       "False"
      ]
     },
     "execution_count": 5,
     "metadata": {},
     "output_type": "execute_result"
    }
   ],
   "source": [
    "#lists are the ordered\n",
    "a = [1,2,\"Peter\",4.50,\"Ricky\",5,6]  \n",
    "b = [1,2,5,\"Peter\",4.50,\"Ricky\",6]  \n",
    "a ==b"
   ]
  },
  {
   "cell_type": "code",
   "execution_count": 6,
   "metadata": {},
   "outputs": [
    {
     "data": {
      "text/plain": [
       "True"
      ]
     },
     "execution_count": 6,
     "metadata": {},
     "output_type": "execute_result"
    }
   ],
   "source": [
    "#lists are the ordered\n",
    "a = [1, 2,\"Peter\", 4.50,\"Ricky\",5, 6]  \n",
    "b = [1, 2,\"Peter\", 4.50,\"Ricky\",5, 6]  \n",
    "a == b  "
   ]
  },
  {
   "cell_type": "code",
   "execution_count": 7,
   "metadata": {},
   "outputs": [
    {
     "name": "stdout",
     "output_type": "stream",
     "text": [
      "printing employee data...\n",
      "Name : John, ID: 102, Country: USA\n",
      "printing departments...\n",
      "Department 1:\n",
      "Name: CS, ID: 11\n",
      "Department 2:\n",
      "Name: IT, ID: 11\n",
      "HOD Details ....\n",
      "CS HOD Name: Mr. Holding, Id: 10\n",
      "IT HOD Name: Mr. Bewon, Id: 11\n",
      "<class 'list'> <class 'list'> <class 'list'> <class 'list'> <class 'list'>\n"
     ]
    }
   ],
   "source": [
    "#List example in detail\n",
    "emp = [\"John\", 102, \"USA\"]     \n",
    "Dep1 = [\"CS\",10]  \n",
    "Dep2 = [\"IT\",11]    \n",
    "HOD_CS = [10,\"Mr. Holding\"]    \n",
    "HOD_IT = [11, \"Mr. Bewon\"]    \n",
    "print(\"printing employee data...\")    \n",
    "print(\"Name : %s, ID: %d, Country: %s\"%(emp[0],emp[1],emp[2]))    \n",
    "print(\"printing departments...\")   \n",
    "print(\"Department 1:\\nName: %s, ID: %d\\nDepartment 2:\\nName: %s, ID: %s\"%(Dep1[0],Dep2[1],Dep2[0],Dep2[1]))    \n",
    "print(\"HOD Details ....\")    \n",
    "print(\"CS HOD Name: %s, Id: %d\"%(HOD_CS[1],HOD_CS[0]))    \n",
    "print(\"IT HOD Name: %s, Id: %d\"%(HOD_IT[1],HOD_IT[0]))    \n",
    "print(type(emp),type(Dep1),type(Dep2),type(HOD_CS),type(HOD_IT))  "
   ]
  },
  {
   "cell_type": "code",
   "execution_count": 8,
   "metadata": {},
   "outputs": [
    {
     "name": "stdout",
     "output_type": "stream",
     "text": [
      "1\n",
      "2\n",
      "3\n",
      "4\n",
      "[1, 2, 3, 4, 5, 6]\n",
      "[1, 2, 3, 4, 5, 6, 7]\n",
      "[3, 4, 5]\n",
      "[2, 4, 6]\n"
     ]
    }
   ],
   "source": [
    "#List indexing and splitting\n",
    "list = [1,2,3,4,5,6,7]  \n",
    "print(list[0])  \n",
    "print(list[1])  \n",
    "print(list[2])  \n",
    "print(list[3])  \n",
    "# Slicing the elements  \n",
    "print(list[0:6])  \n",
    "# By default the index value is 0 so its starts from the 0th element and go for index -1.  \n",
    "print(list[:])  \n",
    "print(list[2:5])  \n",
    "print(list[1:6:2])"
   ]
  },
  {
   "cell_type": "code",
   "execution_count": 9,
   "metadata": {},
   "outputs": [
    {
     "name": "stdout",
     "output_type": "stream",
     "text": [
      "5\n",
      "[3, 4, 5]\n",
      "[1, 2, 3, 4]\n",
      "[3, 4]\n"
     ]
    }
   ],
   "source": [
    "#Negative indexing to access the elements of the list\n",
    "list = [1,2,3,4,5]  \n",
    "print(list[-1])  \n",
    "print(list[-3:])  \n",
    "print(list[:-1])  \n",
    "print(list[-3:-1])  "
   ]
  },
  {
   "cell_type": "code",
   "execution_count": 10,
   "metadata": {},
   "outputs": [
    {
     "name": "stdout",
     "output_type": "stream",
     "text": [
      "[1, 2, 3, 4, 5, 6]\n",
      "[1, 2, 10, 4, 5, 6]\n",
      "[1, 89, 78, 4, 5, 6]\n",
      "[1, 89, 78, 4, 5, 25]\n"
     ]
    }
   ],
   "source": [
    "#example to update the values inside the list\n",
    "list = [1, 2, 3, 4, 5, 6]     \n",
    "print(list)     \n",
    "# It will assign value to the value to the second index   \n",
    "list[2] = 10\n",
    "print(list)    \n",
    "# Adding multiple-element   \n",
    "list[1:3] = [89, 78]     \n",
    "print(list)   \n",
    "# It will add value at the end of the list  \n",
    "list[-1] = 25  \n",
    "print(list)  "
   ]
  },
  {
   "cell_type": "code",
   "execution_count": 11,
   "metadata": {},
   "outputs": [
    {
     "name": "stdout",
     "output_type": "stream",
     "text": [
      "John\n",
      "David\n",
      "James\n",
      "Jonathan\n"
     ]
    }
   ],
   "source": [
    "#Iterating a List\n",
    "list = [\"John\", \"David\", \"James\", \"Jonathan\"]    \n",
    "for i in list:   \n",
    "    # The i variable will iterate over the elements of the List and contains each element in each iteration.     \n",
    "    print(i)  "
   ]
  },
  {
   "cell_type": "code",
   "execution_count": 12,
   "metadata": {},
   "outputs": [
    {
     "name": "stdout",
     "output_type": "stream",
     "text": [
      "Enter the number of elements in the list:5\n",
      "Enter the item:1\n",
      "Enter the item:2\n",
      "Enter the item:3\n",
      "Enter the item:4\n",
      "Enter the item:5\n",
      "printing the list items..\n",
      "1  2  3  4  5  "
     ]
    }
   ],
   "source": [
    "##Adding elements to the list\n",
    "#Declaring the empty list  \n",
    "l =[]  \n",
    "#Number of elements will be entered by the user    \n",
    "n = int(input(\"Enter the number of elements in the list:\"))  \n",
    "# for loop to take the input  \n",
    "for i in range(0,n):     \n",
    "    # The input is taken from the user and added to the list as the item  \n",
    "    l.append(input(\"Enter the item:\"))     \n",
    "print(\"printing the list items..\")   \n",
    "# traversal loop to print the list items    \n",
    "for i in l:   \n",
    "    print(i, end = \"  \") "
   ]
  },
  {
   "cell_type": "code",
   "execution_count": 13,
   "metadata": {},
   "outputs": [
    {
     "name": "stdout",
     "output_type": "stream",
     "text": [
      "printing original list: \n",
      "0 1 2 3 4 \n",
      "printing the list after the removal of first element...\n",
      "0 1 3 4 "
     ]
    }
   ],
   "source": [
    "#Removing elements from the list\n",
    "list = [0,1,2,3,4]     \n",
    "print(\"printing original list: \");    \n",
    "for i in list:    \n",
    "    print(i,end=\" \")    \n",
    "list.remove(2)    \n",
    "print(\"\\nprinting the list after the removal of first element...\")    \n",
    "for i in list:    \n",
    "    print(i,end=\" \") "
   ]
  },
  {
   "cell_type": "code",
   "execution_count": 14,
   "metadata": {},
   "outputs": [
    {
     "name": "stdout",
     "output_type": "stream",
     "text": [
      "[1, 2, 3, 55, 98, 65, 13, 29]\n"
     ]
    }
   ],
   "source": [
    "#Write the program to remove the duplicate element of the list\n",
    "list1 = [1,2,2,3,55,98,65,65,13,29]  \n",
    "# Declare an empty list that will store unique values  \n",
    "list2 = []  \n",
    "for i in list1:  \n",
    "    if i not in list2:  \n",
    "        list2.append(i)  \n",
    "print(list2) "
   ]
  },
  {
   "cell_type": "code",
   "execution_count": 15,
   "metadata": {},
   "outputs": [
    {
     "name": "stdout",
     "output_type": "stream",
     "text": [
      "The sum is: 67\n"
     ]
    }
   ],
   "source": [
    " #Write a program to find the sum of the element in the list\n",
    "list1 = [3,4,5,9,10,12,24]  \n",
    "sum = 0  \n",
    "for i in list1:  \n",
    "    sum = sum+i      \n",
    "print(\"The sum is:\",sum)   "
   ]
  },
  {
   "cell_type": "code",
   "execution_count": 16,
   "metadata": {},
   "outputs": [
    {
     "name": "stdout",
     "output_type": "stream",
     "text": [
      "The common element is: 2\n"
     ]
    }
   ],
   "source": [
    "#Write the program to find the lists consist of at least one common element.\n",
    "list1 = [1,2,3,4,5,6]  \n",
    "list2 = [7,8,9,2,10]  \n",
    "for x in list1:  \n",
    "    for y in list2:  \n",
    "        if x == y:  \n",
    "            print(\"The common element is:\",x) "
   ]
  },
  {
   "cell_type": "code",
   "execution_count": null,
   "metadata": {},
   "outputs": [],
   "source": []
  }
 ],
 "metadata": {
  "hide_input": false,
  "kernelspec": {
   "display_name": "Python 3",
   "language": "python",
   "name": "python3"
  },
  "language_info": {
   "codemirror_mode": {
    "name": "ipython",
    "version": 3
   },
   "file_extension": ".py",
   "mimetype": "text/x-python",
   "name": "python",
   "nbconvert_exporter": "python",
   "pygments_lexer": "ipython3",
   "version": "3.7.0"
  }
 },
 "nbformat": 4,
 "nbformat_minor": 2
}
